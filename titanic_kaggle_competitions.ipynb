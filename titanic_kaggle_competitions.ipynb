{
 "cells": [
  {
   "cell_type": "markdown",
   "source": [
    "# Titanic - Machine Learning from Disaster\n",
    "\n",
    "More Information on: [Kaggle](https://www.kaggle.com/competitions/titanic/overview)"
   ],
   "metadata": {
    "collapsed": false
   }
  },
  {
   "cell_type": "code",
   "execution_count": 171,
   "outputs": [],
   "source": [
    "import pandas as pd\n",
    "import numpy as np\n",
    "import seaborn as sns\n",
    "import matplotlib.pyplot as plt\n",
    "from sklearn.experimental import enable_iterative_imputer\n",
    "from sklearn.impute import IterativeImputer\n",
    "from sklearn.impute import KNNImputer\n",
    "from sklearn.preprocessing import StandardScaler\n",
    "from sklearn.ensemble import RandomForestClassifier, GradientBoostingClassifier\n",
    "from sklearn.linear_model import LogisticRegression\n",
    "from sklearn.linear_model import LinearRegression\n",
    "from sklearn.linear_model import Ridge\n",
    "from sklearn.linear_model import Lasso\n",
    "from sklearn.model_selection import GridSearchCV\n",
    "from sklearn.model_selection import RandomizedSearchCV\n",
    "from sklearn.svm import SVC\n",
    "from scipy.stats import uniform\n",
    "import pickle\n",
    "\n",
    "\n"
   ],
   "metadata": {
    "collapsed": false,
    "ExecuteTime": {
     "end_time": "2023-05-06T06:03:21.742174300Z",
     "start_time": "2023-05-06T06:03:21.603747300Z"
    }
   }
  },
  {
   "cell_type": "markdown",
   "source": [
    "## Import train set"
   ],
   "metadata": {
    "collapsed": false
   }
  },
  {
   "cell_type": "code",
   "execution_count": 172,
   "outputs": [
    {
     "data": {
      "text/plain": "   PassengerId  Survived  Pclass  \\\n0            1         0       3   \n1            2         1       1   \n2            3         1       3   \n3            4         1       1   \n4            5         0       3   \n\n                                                Name     Sex   Age  SibSp  \\\n0                            Braund, Mr. Owen Harris    male  22.0      1   \n1  Cumings, Mrs. John Bradley (Florence Briggs Th...  female  38.0      1   \n2                             Heikkinen, Miss. Laina  female  26.0      0   \n3       Futrelle, Mrs. Jacques Heath (Lily May Peel)  female  35.0      1   \n4                           Allen, Mr. William Henry    male  35.0      0   \n\n   Parch            Ticket     Fare Cabin Embarked  \n0      0         A/5 21171   7.2500   NaN        S  \n1      0          PC 17599  71.2833   C85        C  \n2      0  STON/O2. 3101282   7.9250   NaN        S  \n3      0            113803  53.1000  C123        S  \n4      0            373450   8.0500   NaN        S  ",
      "text/html": "<div>\n<style scoped>\n    .dataframe tbody tr th:only-of-type {\n        vertical-align: middle;\n    }\n\n    .dataframe tbody tr th {\n        vertical-align: top;\n    }\n\n    .dataframe thead th {\n        text-align: right;\n    }\n</style>\n<table border=\"1\" class=\"dataframe\">\n  <thead>\n    <tr style=\"text-align: right;\">\n      <th></th>\n      <th>PassengerId</th>\n      <th>Survived</th>\n      <th>Pclass</th>\n      <th>Name</th>\n      <th>Sex</th>\n      <th>Age</th>\n      <th>SibSp</th>\n      <th>Parch</th>\n      <th>Ticket</th>\n      <th>Fare</th>\n      <th>Cabin</th>\n      <th>Embarked</th>\n    </tr>\n  </thead>\n  <tbody>\n    <tr>\n      <th>0</th>\n      <td>1</td>\n      <td>0</td>\n      <td>3</td>\n      <td>Braund, Mr. Owen Harris</td>\n      <td>male</td>\n      <td>22.0</td>\n      <td>1</td>\n      <td>0</td>\n      <td>A/5 21171</td>\n      <td>7.2500</td>\n      <td>NaN</td>\n      <td>S</td>\n    </tr>\n    <tr>\n      <th>1</th>\n      <td>2</td>\n      <td>1</td>\n      <td>1</td>\n      <td>Cumings, Mrs. John Bradley (Florence Briggs Th...</td>\n      <td>female</td>\n      <td>38.0</td>\n      <td>1</td>\n      <td>0</td>\n      <td>PC 17599</td>\n      <td>71.2833</td>\n      <td>C85</td>\n      <td>C</td>\n    </tr>\n    <tr>\n      <th>2</th>\n      <td>3</td>\n      <td>1</td>\n      <td>3</td>\n      <td>Heikkinen, Miss. Laina</td>\n      <td>female</td>\n      <td>26.0</td>\n      <td>0</td>\n      <td>0</td>\n      <td>STON/O2. 3101282</td>\n      <td>7.9250</td>\n      <td>NaN</td>\n      <td>S</td>\n    </tr>\n    <tr>\n      <th>3</th>\n      <td>4</td>\n      <td>1</td>\n      <td>1</td>\n      <td>Futrelle, Mrs. Jacques Heath (Lily May Peel)</td>\n      <td>female</td>\n      <td>35.0</td>\n      <td>1</td>\n      <td>0</td>\n      <td>113803</td>\n      <td>53.1000</td>\n      <td>C123</td>\n      <td>S</td>\n    </tr>\n    <tr>\n      <th>4</th>\n      <td>5</td>\n      <td>0</td>\n      <td>3</td>\n      <td>Allen, Mr. William Henry</td>\n      <td>male</td>\n      <td>35.0</td>\n      <td>0</td>\n      <td>0</td>\n      <td>373450</td>\n      <td>8.0500</td>\n      <td>NaN</td>\n      <td>S</td>\n    </tr>\n  </tbody>\n</table>\n</div>"
     },
     "execution_count": 172,
     "metadata": {},
     "output_type": "execute_result"
    }
   ],
   "source": [
    "data = pd.read_csv(\"train.csv\")\n",
    "test_data = pd.read_csv(\"test.csv\")\n",
    "gender = pd.read_csv(\"gender_submission.csv\")\n",
    "data.head()"
   ],
   "metadata": {
    "collapsed": false,
    "ExecuteTime": {
     "end_time": "2023-05-06T06:03:21.947663500Z",
     "start_time": "2023-05-06T06:03:21.615548300Z"
    }
   }
  },
  {
   "cell_type": "code",
   "execution_count": 173,
   "outputs": [
    {
     "name": "stdout",
     "output_type": "stream",
     "text": [
      "<class 'pandas.core.frame.DataFrame'>\n",
      "RangeIndex: 891 entries, 0 to 890\n",
      "Data columns (total 12 columns):\n",
      " #   Column       Non-Null Count  Dtype  \n",
      "---  ------       --------------  -----  \n",
      " 0   PassengerId  891 non-null    int64  \n",
      " 1   Survived     891 non-null    int64  \n",
      " 2   Pclass       891 non-null    int64  \n",
      " 3   Name         891 non-null    object \n",
      " 4   Sex          891 non-null    object \n",
      " 5   Age          714 non-null    float64\n",
      " 6   SibSp        891 non-null    int64  \n",
      " 7   Parch        891 non-null    int64  \n",
      " 8   Ticket       891 non-null    object \n",
      " 9   Fare         891 non-null    float64\n",
      " 10  Cabin        204 non-null    object \n",
      " 11  Embarked     889 non-null    object \n",
      "dtypes: float64(2), int64(5), object(5)\n",
      "memory usage: 83.7+ KB\n"
     ]
    }
   ],
   "source": [
    "data.info()"
   ],
   "metadata": {
    "collapsed": false,
    "ExecuteTime": {
     "end_time": "2023-05-06T06:03:21.947663500Z",
     "start_time": "2023-05-06T06:03:21.649273300Z"
    }
   }
  },
  {
   "cell_type": "markdown",
   "source": [
    "## EDA"
   ],
   "metadata": {
    "collapsed": false
   }
  },
  {
   "cell_type": "code",
   "execution_count": 174,
   "outputs": [
    {
     "data": {
      "text/plain": "PassengerId      0\nSurvived         0\nPclass           0\nName             0\nSex              0\nAge            177\nSibSp            0\nParch            0\nTicket           0\nFare             0\nCabin          687\nEmbarked         2\ndtype: int64"
     },
     "execution_count": 174,
     "metadata": {},
     "output_type": "execute_result"
    }
   ],
   "source": [
    "# check for missing values\n",
    "data.isna().sum()"
   ],
   "metadata": {
    "collapsed": false,
    "ExecuteTime": {
     "end_time": "2023-05-06T06:03:21.947663500Z",
     "start_time": "2023-05-06T06:03:21.663384500Z"
    }
   }
  },
  {
   "cell_type": "code",
   "execution_count": 175,
   "outputs": [
    {
     "data": {
      "text/plain": "<Figure size 640x480 with 1 Axes>",
      "image/png": "[encoded data removed]"
     },
     "metadata": {},
     "output_type": "display_data"
    }
   ],
   "source": [
    "#Set qualitative color palette\n",
    "colors = sns.color_palette(\"Paired\")\n",
    "\n",
    "# Plot Count of Sex\n",
    "sns.countplot(data=data, x=\"Sex\", palette=colors)\n",
    "plt.title(\"Count of Observation by Sex\")\n",
    "plt.ylabel(\"Count\")\n",
    "plt.show()\n",
    "plt.close()"
   ],
   "metadata": {
    "collapsed": false,
    "ExecuteTime": {
     "end_time": "2023-05-06T06:03:22.010870Z",
     "start_time": "2023-05-06T06:03:21.679190400Z"
    }
   }
  },
  {
   "cell_type": "code",
   "execution_count": 176,
   "outputs": [
    {
     "data": {
      "text/plain": "<Figure size 640x480 with 1 Axes>",
      "image/png": "[encoded data removed]"
     },
     "metadata": {},
     "output_type": "display_data"
    }
   ],
   "source": [
    "sns.countplot(data=data, x=\"Survived\")\n",
    "plt.title(\"Count of Observation by Survived\")\n",
    "plt.ylabel(\"Count\")\n",
    "plt.show()"
   ],
   "metadata": {
    "collapsed": false,
    "ExecuteTime": {
     "end_time": "2023-05-06T06:03:22.228611700Z",
     "start_time": "2023-05-06T06:03:21.886102600Z"
    }
   }
  },
  {
   "cell_type": "code",
   "execution_count": 177,
   "outputs": [
    {
     "data": {
      "text/plain": "<Figure size 640x480 with 1 Axes>",
      "image/png": "[encoded data removed]"
     },
     "metadata": {},
     "output_type": "display_data"
    }
   ],
   "source": [
    "sns.histplot(data=data, x=\"Age\")\n",
    "plt.title(\"Distribution of Age before Imputation\")\n",
    "plt.show()"
   ],
   "metadata": {
    "collapsed": false,
    "ExecuteTime": {
     "end_time": "2023-05-06T06:03:22.432995Z",
     "start_time": "2023-05-06T06:03:22.068028500Z"
    }
   }
  },
  {
   "cell_type": "markdown",
   "source": [
    "## Impuation\n",
    "\n",
    "Now we want to impute the missing age values with `IterativeImputer`. It comes with several estimator. The choice of the estimator depends on our data and the characteristics of the age variable.\n",
    "\n",
    "- 'bayesian_ridge': Bayesian ridge regression model\n",
    "- 'decision_tree': Single decision tree regressor\n",
    "- 'extra_trees': Ensemble of randomized extra-trees regressors\n",
    "- 'knn': K-nearest neighbors regressor\n",
    "- 'linear': Linear regression model\n",
    "- 'mlp': Multi-layer perceptron neural network regressor\n",
    "- 'random_forest': Ensemble of randomized decision trees (Random Forest) regressor\n",
    "- 'ridge': Ridge regression model\n",
    "- 'svr': Support vector regression model"
   ],
   "metadata": {
    "collapsed": false
   }
  },
  {
   "cell_type": "code",
   "execution_count": 178,
   "outputs": [],
   "source": [
    "features = data.drop(columns=[\"Name\", \"Ticket\", \"PassengerId\", \"Survived\", \"Cabin\", \"Embarked\", \"SibSp\", \"Parch\", \"Fare\"], axis=1)\n",
    "\n",
    "\n",
    "test_features = test_data.drop(columns=[\"Name\", \"Ticket\", \"PassengerId\", \"Cabin\", \"Embarked\", \"SibSp\", \"Parch\", \"Fare\"], axis=1)\n",
    "\n",
    "label = data.Survived"
   ],
   "metadata": {
    "collapsed": false,
    "ExecuteTime": {
     "end_time": "2023-05-06T06:03:22.432995Z",
     "start_time": "2023-05-06T06:03:22.386064900Z"
    }
   }
  },
  {
   "cell_type": "code",
   "execution_count": 179,
   "outputs": [
    {
     "data": {
      "text/plain": "   Pclass  Sex   Age\n0       3    1  22.0\n1       1    0  38.0\n2       3    0  26.0\n3       1    0  35.0\n4       3    1  35.0",
      "text/html": "<div>\n<style scoped>\n    .dataframe tbody tr th:only-of-type {\n        vertical-align: middle;\n    }\n\n    .dataframe tbody tr th {\n        vertical-align: top;\n    }\n\n    .dataframe thead th {\n        text-align: right;\n    }\n</style>\n<table border=\"1\" class=\"dataframe\">\n  <thead>\n    <tr style=\"text-align: right;\">\n      <th></th>\n      <th>Pclass</th>\n      <th>Sex</th>\n      <th>Age</th>\n    </tr>\n  </thead>\n  <tbody>\n    <tr>\n      <th>0</th>\n      <td>3</td>\n      <td>1</td>\n      <td>22.0</td>\n    </tr>\n    <tr>\n      <th>1</th>\n      <td>1</td>\n      <td>0</td>\n      <td>38.0</td>\n    </tr>\n    <tr>\n      <th>2</th>\n      <td>3</td>\n      <td>0</td>\n      <td>26.0</td>\n    </tr>\n    <tr>\n      <th>3</th>\n      <td>1</td>\n      <td>0</td>\n      <td>35.0</td>\n    </tr>\n    <tr>\n      <th>4</th>\n      <td>3</td>\n      <td>1</td>\n      <td>35.0</td>\n    </tr>\n  </tbody>\n</table>\n</div>"
     },
     "execution_count": 179,
     "metadata": {},
     "output_type": "execute_result"
    }
   ],
   "source": [
    "features.Sex = features.Sex.map({\"male\":1, \"female\": 0})\n",
    "test_features.Sex = test_features.Sex.map({\"male\":1, \"female\": 0})\n",
    "features.head()"
   ],
   "metadata": {
    "collapsed": false,
    "ExecuteTime": {
     "end_time": "2023-05-06T06:03:22.435324200Z",
     "start_time": "2023-05-06T06:03:22.416973600Z"
    }
   }
  },
  {
   "cell_type": "code",
   "execution_count": 180,
   "outputs": [],
   "source": [
    "imp_iter = IterativeImputer(max_iter=10, random_state=42)\n",
    "features_imp = imp_iter.fit_transform(features)\n",
    "\n",
    "features_imp = pd.DataFrame(features_imp, columns=features.columns)\n"
   ],
   "metadata": {
    "collapsed": false,
    "ExecuteTime": {
     "end_time": "2023-05-06T06:03:22.449017800Z",
     "start_time": "2023-05-06T06:03:22.423978Z"
    }
   }
  },
  {
   "cell_type": "code",
   "execution_count": 181,
   "outputs": [
    {
     "data": {
      "text/plain": "Pclass    0\nSex       0\nAge       0\ndtype: int64"
     },
     "execution_count": 181,
     "metadata": {},
     "output_type": "execute_result"
    }
   ],
   "source": [
    "features_imp.isna().sum()"
   ],
   "metadata": {
    "collapsed": false,
    "ExecuteTime": {
     "end_time": "2023-05-06T06:03:22.594464400Z",
     "start_time": "2023-05-06T06:03:22.459035200Z"
    }
   }
  },
  {
   "cell_type": "code",
   "execution_count": 182,
   "outputs": [
    {
     "data": {
      "text/plain": "Pclass     0\nSex        0\nAge       86\ndtype: int64"
     },
     "execution_count": 182,
     "metadata": {},
     "output_type": "execute_result"
    }
   ],
   "source": [
    "test_features.isna().sum()"
   ],
   "metadata": {
    "collapsed": false,
    "ExecuteTime": {
     "end_time": "2023-05-06T06:03:22.594464400Z",
     "start_time": "2023-05-06T06:03:22.478644200Z"
    }
   }
  },
  {
   "cell_type": "code",
   "execution_count": 183,
   "outputs": [
    {
     "data": {
      "text/plain": "Text(0.5, 1.0, 'Distribution of Age after Iter-Imputation')"
     },
     "execution_count": 183,
     "metadata": {},
     "output_type": "execute_result"
    },
    {
     "data": {
      "text/plain": "<Figure size 640x480 with 1 Axes>",
      "image/png": "[encoded data removed]"
     },
     "metadata": {},
     "output_type": "display_data"
    }
   ],
   "source": [
    "sns.histplot(data=features_imp, x=\"Age\")\n",
    "plt.title(\"Distribution of Age after Iter-Imputation\")"
   ],
   "metadata": {
    "collapsed": false,
    "ExecuteTime": {
     "end_time": "2023-05-06T06:03:22.976256Z",
     "start_time": "2023-05-06T06:03:22.487062500Z"
    }
   }
  },
  {
   "cell_type": "code",
   "execution_count": 184,
   "outputs": [
    {
     "data": {
      "text/plain": "0.42"
     },
     "execution_count": 184,
     "metadata": {},
     "output_type": "execute_result"
    }
   ],
   "source": [
    "np.min(features_imp.Age)"
   ],
   "metadata": {
    "collapsed": false,
    "ExecuteTime": {
     "end_time": "2023-05-06T06:03:22.989593500Z",
     "start_time": "2023-05-06T06:03:22.978045Z"
    }
   }
  },
  {
   "cell_type": "markdown",
   "source": [
    "We got negative values for age which just is impossible. So we use another Imputation Strategy like `KNNImputer`"
   ],
   "metadata": {
    "collapsed": false
   }
  },
  {
   "cell_type": "code",
   "execution_count": 185,
   "outputs": [
    {
     "data": {
      "text/plain": "   Pclass  Sex   Age\n0     3.0  1.0  22.0\n1     1.0  0.0  38.0\n2     3.0  0.0  26.0\n3     1.0  0.0  35.0\n4     3.0  1.0  35.0",
      "text/html": "<div>\n<style scoped>\n    .dataframe tbody tr th:only-of-type {\n        vertical-align: middle;\n    }\n\n    .dataframe tbody tr th {\n        vertical-align: top;\n    }\n\n    .dataframe thead th {\n        text-align: right;\n    }\n</style>\n<table border=\"1\" class=\"dataframe\">\n  <thead>\n    <tr style=\"text-align: right;\">\n      <th></th>\n      <th>Pclass</th>\n      <th>Sex</th>\n      <th>Age</th>\n    </tr>\n  </thead>\n  <tbody>\n    <tr>\n      <th>0</th>\n      <td>3.0</td>\n      <td>1.0</td>\n      <td>22.0</td>\n    </tr>\n    <tr>\n      <th>1</th>\n      <td>1.0</td>\n      <td>0.0</td>\n      <td>38.0</td>\n    </tr>\n    <tr>\n      <th>2</th>\n      <td>3.0</td>\n      <td>0.0</td>\n      <td>26.0</td>\n    </tr>\n    <tr>\n      <th>3</th>\n      <td>1.0</td>\n      <td>0.0</td>\n      <td>35.0</td>\n    </tr>\n    <tr>\n      <th>4</th>\n      <td>3.0</td>\n      <td>1.0</td>\n      <td>35.0</td>\n    </tr>\n  </tbody>\n</table>\n</div>"
     },
     "execution_count": 185,
     "metadata": {},
     "output_type": "execute_result"
    }
   ],
   "source": [
    "knn_imp = KNNImputer(n_neighbors=3)\n",
    "\n",
    "features_knn = knn_imp.fit_transform(features)\n",
    "features_knn = pd.DataFrame(features_knn, columns=features.columns)\n",
    "\n",
    "test_features_knn = knn_imp.fit_transform(test_features)\n",
    "test_features_knn = pd.DataFrame(test_features_knn, columns=test_features.columns)\n",
    "\n",
    "features_knn.head()\n"
   ],
   "metadata": {
    "collapsed": false,
    "ExecuteTime": {
     "end_time": "2023-05-06T06:03:23.090150100Z",
     "start_time": "2023-05-06T06:03:22.996672600Z"
    }
   }
  },
  {
   "cell_type": "code",
   "execution_count": 186,
   "outputs": [
    {
     "data": {
      "text/plain": "<Figure size 640x480 with 1 Axes>",
      "image/png": "[encoded data removed]"
     },
     "metadata": {},
     "output_type": "display_data"
    }
   ],
   "source": [
    "sns.histplot(features_knn, x=\"Age\")\n",
    "plt.title(\"Distribution of Age after KNN-Impuation\")\n",
    "plt.show()"
   ],
   "metadata": {
    "collapsed": false,
    "ExecuteTime": {
     "end_time": "2023-05-06T06:03:23.422571600Z",
     "start_time": "2023-05-06T06:03:23.042398100Z"
    }
   }
  },
  {
   "cell_type": "code",
   "execution_count": 187,
   "outputs": [
    {
     "data": {
      "text/plain": "0.42"
     },
     "execution_count": 187,
     "metadata": {},
     "output_type": "execute_result"
    }
   ],
   "source": [
    "np.min(features_knn.Age)"
   ],
   "metadata": {
    "collapsed": false,
    "ExecuteTime": {
     "end_time": "2023-05-06T06:03:23.422571600Z",
     "start_time": "2023-05-06T06:03:23.406381100Z"
    }
   }
  },
  {
   "cell_type": "code",
   "execution_count": 188,
   "outputs": [],
   "source": [
    "corr_matrix = features_knn.corr()"
   ],
   "metadata": {
    "collapsed": false,
    "ExecuteTime": {
     "end_time": "2023-05-06T06:03:23.454209900Z",
     "start_time": "2023-05-06T06:03:23.418148600Z"
    }
   }
  },
  {
   "cell_type": "code",
   "execution_count": 189,
   "outputs": [
    {
     "data": {
      "text/plain": "<Figure size 640x480 with 2 Axes>",
      "image/png": "[encoded data removed]"
     },
     "metadata": {},
     "output_type": "display_data"
    }
   ],
   "source": [
    "sns.heatmap(corr_matrix, annot=True, cmap=\"mako\")\n",
    "plt.show()"
   ],
   "metadata": {
    "collapsed": false,
    "ExecuteTime": {
     "end_time": "2023-05-06T06:03:23.722928500Z",
     "start_time": "2023-05-06T06:03:23.442882700Z"
    }
   }
  },
  {
   "cell_type": "markdown",
   "source": [
    "Apart from the variables Fare and Pclass, the variables do not seem to correlate with each other. So we could decide for a regression or classification."
   ],
   "metadata": {
    "collapsed": false
   }
  },
  {
   "cell_type": "markdown",
   "source": [
    "## Standardize Data"
   ],
   "metadata": {
    "collapsed": false
   }
  },
  {
   "cell_type": "code",
   "execution_count": 190,
   "outputs": [],
   "source": [
    "scaler = StandardScaler()\n",
    "features_knn_scaled = scaler.fit_transform(features_knn)\n",
    "test_features_knn_scaled = scaler.fit_transform(test_features_knn)"
   ],
   "metadata": {
    "collapsed": false,
    "ExecuteTime": {
     "end_time": "2023-05-06T06:03:23.742064700Z",
     "start_time": "2023-05-06T06:03:23.722928500Z"
    }
   }
  },
  {
   "cell_type": "markdown",
   "source": [
    "## LogisticRegression()"
   ],
   "metadata": {
    "collapsed": false
   }
  },
  {
   "cell_type": "code",
   "execution_count": 191,
   "outputs": [
    {
     "name": "stdout",
     "output_type": "stream",
     "text": [
      "0.7968574635241302\n"
     ]
    }
   ],
   "source": [
    "lr = LogisticRegression()\n",
    "lr.fit(features_knn_scaled, label)\n",
    "print(lr.score(features_knn_scaled, label))"
   ],
   "metadata": {
    "collapsed": false,
    "ExecuteTime": {
     "end_time": "2023-05-06T06:03:23.863729Z",
     "start_time": "2023-05-06T06:03:23.743570200Z"
    }
   }
  },
  {
   "cell_type": "code",
   "execution_count": 192,
   "outputs": [],
   "source": [
    "## LinearRegression()"
   ],
   "metadata": {
    "collapsed": false,
    "ExecuteTime": {
     "end_time": "2023-05-06T06:03:23.863729Z",
     "start_time": "2023-05-06T06:03:23.769393600Z"
    }
   }
  },
  {
   "cell_type": "code",
   "execution_count": 193,
   "outputs": [
    {
     "name": "stdout",
     "output_type": "stream",
     "text": [
      "0.3834514777239708\n",
      "Intercept: 0.38383838383838376\n",
      "Coefficients: [-0.16342132 -0.23777316 -0.06870929]\n"
     ]
    }
   ],
   "source": [
    "linear = LinearRegression()\n",
    "linear.fit(features_knn_scaled, label)\n",
    "print(linear.score(features_knn_scaled, label))\n",
    "\n",
    "print(\"Intercept:\", linear.intercept_)\n",
    "print(\"Coefficients:\", linear.coef_)\n"
   ],
   "metadata": {
    "collapsed": false,
    "ExecuteTime": {
     "end_time": "2023-05-06T06:03:23.863729Z",
     "start_time": "2023-05-06T06:03:23.772445300Z"
    }
   }
  },
  {
   "cell_type": "code",
   "execution_count": 194,
   "outputs": [],
   "source": [
    "## Lasso"
   ],
   "metadata": {
    "collapsed": false,
    "ExecuteTime": {
     "end_time": "2023-05-06T06:03:23.863729Z",
     "start_time": "2023-05-06T06:03:23.791545700Z"
    }
   }
  },
  {
   "cell_type": "code",
   "execution_count": 195,
   "outputs": [
    {
     "name": "stdout",
     "output_type": "stream",
     "text": [
      "0.0\n"
     ]
    }
   ],
   "source": [
    "lasso = Lasso()\n",
    "lasso.fit(features_knn_scaled, label)\n",
    "print(lasso.score(features_knn_scaled, label))"
   ],
   "metadata": {
    "collapsed": false,
    "ExecuteTime": {
     "end_time": "2023-05-06T06:03:23.863729Z",
     "start_time": "2023-05-06T06:03:23.802915Z"
    }
   }
  },
  {
   "cell_type": "markdown",
   "source": [
    "## Ridge"
   ],
   "metadata": {
    "collapsed": false
   }
  },
  {
   "cell_type": "code",
   "execution_count": 196,
   "outputs": [
    {
     "name": "stdout",
     "output_type": "stream",
     "text": [
      "0.38345099873231103\n"
     ]
    }
   ],
   "source": [
    "ridge = Ridge()\n",
    "ridge.fit(features_knn_scaled, label)\n",
    "print(ridge.score(features_knn_scaled, label))"
   ],
   "metadata": {
    "collapsed": false,
    "ExecuteTime": {
     "end_time": "2023-05-06T06:03:23.863729Z",
     "start_time": "2023-05-06T06:03:23.809442200Z"
    }
   }
  },
  {
   "cell_type": "code",
   "execution_count": 196,
   "outputs": [],
   "source": [],
   "metadata": {
    "collapsed": false,
    "ExecuteTime": {
     "end_time": "2023-05-06T06:03:23.863729Z",
     "start_time": "2023-05-06T06:03:23.820857400Z"
    }
   }
  },
  {
   "cell_type": "code",
   "execution_count": 197,
   "outputs": [],
   "source": [
    "## RandomForest"
   ],
   "metadata": {
    "collapsed": false,
    "ExecuteTime": {
     "end_time": "2023-05-06T06:03:23.863729Z",
     "start_time": "2023-05-06T06:03:23.821364700Z"
    }
   }
  },
  {
   "cell_type": "code",
   "execution_count": 198,
   "outputs": [
    {
     "name": "stdout",
     "output_type": "stream",
     "text": [
      "Best parameters found:  {'max_depth': 20, 'max_features': 'sqrt', 'min_samples_leaf': 1, 'min_samples_split': 5, 'n_estimators': 500}\n",
      "Best score:  0.8170736300295023\n",
      "0.8754208754208754\n"
     ]
    }
   ],
   "source": [
    "rf = RandomForestClassifier(random_state=42)\n",
    "rf.fit(features_knn, label)\n",
    "\n",
    "# Definieren Sie den Hyperparameterraum, den Sie untersuchen möchten\n",
    "param_grid = {\n",
    "    'n_estimators': [100, 200, 500],\n",
    "    'max_depth': [5, 10, 20],\n",
    "    'min_samples_split': [2, 5, 10],\n",
    "    'min_samples_leaf': [1, 2, 4],\n",
    "    'max_features': ['sqrt', 'log2']\n",
    "}\n",
    "\n",
    "# Definieren Sie den GridSearchCV-Algorithmus mit Kreuzvalidierung\n",
    "gs_rf = GridSearchCV(rf, param_grid, cv=5, n_jobs=-1)\n",
    "gs_rf.fit(features_knn, label)\n",
    "prediction_gs_rf = gs_rf.predict(test_features_knn)\n",
    "\n",
    "# Zeigen Sie die besten Hyperparameter und den entsprechenden Score an\n",
    "print(\"Best parameters found: \", gs_rf.best_params_)\n",
    "print(\"Best score: \", gs_rf.best_score_)\n",
    "\n",
    "print(gs_rf.score(features_knn, label))"
   ],
   "metadata": {
    "collapsed": false,
    "ExecuteTime": {
     "end_time": "2023-05-06T06:04:02.468603100Z",
     "start_time": "2023-05-06T06:03:23.831988400Z"
    }
   }
  },
  {
   "cell_type": "code",
   "execution_count": 199,
   "outputs": [
    {
     "name": "stdout",
     "output_type": "stream",
     "text": [
      "Random Forest base parameters {'bootstrap': True, 'ccp_alpha': 0.0, 'class_weight': None, 'criterion': 'gini', 'max_depth': None, 'max_features': 'sqrt', 'max_leaf_nodes': None, 'max_samples': None, 'min_impurity_decrease': 0.0, 'min_samples_leaf': 1, 'min_samples_split': 2, 'min_weight_fraction_leaf': 0.0, 'n_estimators': 100, 'n_jobs': None, 'oob_score': False, 'random_state': 42, 'verbose': 0, 'warm_start': False}\n"
     ]
    }
   ],
   "source": [
    "print('Random Forest base parameters', rf.get_params())"
   ],
   "metadata": {
    "collapsed": false,
    "ExecuteTime": {
     "end_time": "2023-05-06T06:04:02.477831100Z",
     "start_time": "2023-05-06T06:04:02.471111900Z"
    }
   }
  },
  {
   "cell_type": "markdown",
   "source": [
    "## GradientBoostingClassifier"
   ],
   "metadata": {
    "collapsed": false
   }
  },
  {
   "cell_type": "code",
   "execution_count": 200,
   "outputs": [
    {
     "name": "stdout",
     "output_type": "stream",
     "text": [
      "Fitting 5 folds for each of 120 candidates, totalling 600 fits\n",
      "0.05\n",
      "Best Params:  {'learning_rate': 0.05, 'max_depth': 3, 'min_samples_split': 2, 'n_estimators': 400, 'subsample': 0.5}\n",
      "0.8597081930415263\n"
     ]
    }
   ],
   "source": [
    "grad_classifier = GradientBoostingClassifier()\n",
    "\n",
    "learning_rate_list = [0.001, 0.01, 0.05, 0.1, 0.2]\n",
    "\n",
    "param_grid = {'learning_rate': learning_rate_list,\n",
    "              'n_estimators': [400, 500],\n",
    "              'max_depth': [3, 5],\n",
    "              'min_samples_split': [2, 3],\n",
    "              'subsample': [0.3, 0.5, 0.7]}\n",
    "\n",
    "gs = GridSearchCV(grad_classifier, param_grid=param_grid, cv=5, scoring=\"accuracy\", verbose=True)\n",
    "\n",
    "gs.fit(features_knn, label)\n",
    "\n",
    "best_learning_rate = gs.best_params_[\"learning_rate\"]\n",
    "print(best_learning_rate)\n",
    "\n",
    "print(\"Best Params: \", gs.best_params_)\n",
    "\n",
    "print(gs.score(features_knn, label))\n",
    "predictions_boost = gs.predict(test_features_knn)\n",
    "\n",
    "\n"
   ],
   "metadata": {
    "collapsed": false,
    "ExecuteTime": {
     "end_time": "2023-05-06T06:10:08.195555300Z",
     "start_time": "2023-05-06T06:04:02.479872500Z"
    }
   }
  },
  {
   "cell_type": "code",
   "execution_count": 201,
   "outputs": [],
   "source": [
    "#print(\"Best Params: \", gs.best_params_)"
   ],
   "metadata": {
    "collapsed": false,
    "ExecuteTime": {
     "end_time": "2023-05-06T06:10:08.203052500Z",
     "start_time": "2023-05-06T06:10:08.197072300Z"
    }
   }
  },
  {
   "cell_type": "code",
   "execution_count": 202,
   "outputs": [
    {
     "name": "stdout",
     "output_type": "stream",
     "text": [
      "0.8148148148148148\n",
      "Best params:  {'C': 2, 'gamma': 1}\n"
     ]
    }
   ],
   "source": [
    "param_grid = {\n",
    "    \"C\": [0.1, 1,2,3,4, 10],\n",
    "    \"gamma\": [0.01, 0.1,0.2, 1]\n",
    "}\n",
    "\n",
    "clf = SVC()\n",
    "gs_clf = GridSearchCV(estimator=clf, param_grid=param_grid, cv=5)\n",
    "gs_clf.fit(features_knn_scaled, label)\n",
    "predictions_gs_clf = gs_clf.predict(test_features_knn_scaled)\n",
    "\n",
    "print(gs_clf.score(features_knn_scaled, label))\n",
    "print(\"Best params: \", gs_clf.best_params_)"
   ],
   "metadata": {
    "collapsed": false,
    "ExecuteTime": {
     "end_time": "2023-05-06T06:10:12.518550500Z",
     "start_time": "2023-05-06T06:10:08.206870900Z"
    }
   }
  },
  {
   "cell_type": "code",
   "execution_count": 203,
   "outputs": [
    {
     "name": "stdout",
     "output_type": "stream",
     "text": [
      "Beste Parameter:  {'C': 5.026370931051921, 'gamma': 'scale', 'kernel': 'rbf'}\n",
      "Bestes Score:  0.7980038917833155\n"
     ]
    }
   ],
   "source": [
    "# Definiere die Parameter, die getestet werden sollen\n",
    "param_dist = {\n",
    "    'C': uniform(0, 10),\n",
    "    'gamma': ['scale', 'auto'] + list(uniform(0, 5).rvs(8)),\n",
    "    'kernel': ['rbf', 'sigmoid']\n",
    "}\n",
    "\n",
    "# Erstelle ein SVM-Modell\n",
    "svc = SVC()\n",
    "\n",
    "# Erstelle einen RandomizedSearchCV-Objekt\n",
    "rs = RandomizedSearchCV(estimator=svc, param_distributions=param_dist, n_iter=200, cv=5, random_state=42)\n",
    "\n",
    "# Führe den Randomized Search durch\n",
    "rs.fit(features_knn_scaled, label)\n",
    "predictions_rs = rs.predict(test_features_knn_scaled)\n",
    "\n",
    "# Gib die besten Parameter aus\n",
    "print(\"Beste Parameter: \", rs.best_params_)\n",
    "print(\"Bestes Score: \", rs.best_score_)"
   ],
   "metadata": {
    "collapsed": false,
    "ExecuteTime": {
     "end_time": "2023-05-06T06:10:48.087229700Z",
     "start_time": "2023-05-06T06:10:12.518550500Z"
    }
   }
  },
  {
   "cell_type": "code",
   "execution_count": 208,
   "outputs": [
    {
     "name": "stdout",
     "output_type": "stream",
     "text": [
      "Your submission was successfully saved!\n"
     ]
    }
   ],
   "source": [
    "output = pd.DataFrame({'PassengerId': test_data.PassengerId, 'Survived': predictions_rs})\n",
    "output.to_csv('submission.csv', index=False)\n",
    "print(\"Your submission was successfully saved!\")"
   ],
   "metadata": {
    "collapsed": false,
    "ExecuteTime": {
     "end_time": "2023-05-06T06:13:16.789399500Z",
     "start_time": "2023-05-06T06:13:16.770980Z"
    }
   }
  },
  {
   "cell_type": "code",
   "execution_count": 205,
   "outputs": [],
   "source": [
    "# Support Vektor Machine\n",
    "with open('rs_model.pkl', 'wb') as file:\n",
    "    pickle.dump(rs, file)"
   ],
   "metadata": {
    "collapsed": false,
    "ExecuteTime": {
     "end_time": "2023-05-06T06:10:48.198276200Z",
     "start_time": "2023-05-06T06:10:48.105096800Z"
    }
   }
  },
  {
   "cell_type": "code",
   "execution_count": 206,
   "outputs": [],
   "source": [
    "# GradientBoosterClassifier\n",
    "with open('gs_model.pkl', 'wb') as file:\n",
    "    pickle.dump(gs, file)"
   ],
   "metadata": {
    "collapsed": false,
    "ExecuteTime": {
     "end_time": "2023-05-06T06:10:48.216471100Z",
     "start_time": "2023-05-06T06:10:48.128340100Z"
    }
   }
  }
 ],
 "metadata": {
  "kernelspec": {
   "display_name": "Python 3",
   "language": "python",
   "name": "python3"
  },
  "language_info": {
   "codemirror_mode": {
    "name": "ipython",
    "version": 2
   },
   "file_extension": ".py",
   "mimetype": "text/x-python",
   "name": "python",
   "nbconvert_exporter": "python",
   "pygments_lexer": "ipython2",
   "version": "2.7.6"
  }
 },
 "nbformat": 4,
 "nbformat_minor": 0
}
